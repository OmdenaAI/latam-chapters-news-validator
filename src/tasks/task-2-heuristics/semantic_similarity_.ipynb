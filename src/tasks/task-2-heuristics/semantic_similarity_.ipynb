{
  "nbformat": 4,
  "nbformat_minor": 0,
  "metadata": {
    "colab": {
      "provenance": [],
      "collapsed_sections": []
    },
    "kernelspec": {
      "name": "python3",
      "display_name": "Python 3"
    },
    "language_info": {
      "name": "python"
    },
    "accelerator": "GPU"
  },
  "cells": [
    {
      "cell_type": "code",
      "source": [
        "!pip install sentence-transformers google-search-results newspaper3k -Uqq"
      ],
      "metadata": {
        "id": "Drg0p3FQfLm2"
      },
      "execution_count": null,
      "outputs": []
    },
    {
      "cell_type": "code",
      "source": [
        "import torch\n",
        "from transformers import BertTokenizerFast, EncoderDecoderModel\n",
        "\n",
        "from serpapi import GoogleSearch\n",
        "\n",
        "from sentence_transformers import SentenceTransformer, util\n",
        "import numpy as np\n",
        "import pandas as pd\n",
        "import matplotlib.pyplot as plt\n",
        "import requests\n",
        "\n",
        "from newspaper import Article"
      ],
      "metadata": {
        "id": "bO6ZaJLGbftZ"
      },
      "execution_count": null,
      "outputs": []
    },
    {
      "cell_type": "markdown",
      "source": [
        "# Get article from news site"
      ],
      "metadata": {
        "id": "cF6h6kqOpocr"
      }
    },
    {
      "cell_type": "code",
      "source": [
        "def get_article(link):\n",
        "  article = Article(link, language='es')\n",
        "  article.download()\n",
        "  article.parse()\n",
        "\n",
        "  return article.text"
      ],
      "metadata": {
        "id": "PxGwz9papst7"
      },
      "execution_count": null,
      "outputs": []
    },
    {
      "cell_type": "markdown",
      "source": [
        "# Summarize"
      ],
      "metadata": {
        "id": "rDsk_NcXqQIn"
      }
    },
    {
      "cell_type": "code",
      "source": [
        "device = 'cuda' if torch.cuda.is_available() else 'cpu'\n",
        "ckpt = 'mrm8488/bert2bert_shared-spanish-finetuned-summarization'\n",
        "tokenizer = BertTokenizerFast.from_pretrained(ckpt)\n",
        "model1 = EncoderDecoderModel.from_pretrained(ckpt).to(device)\n",
        "\n",
        "def generate_summary(text):\n",
        "\n",
        "   inputs = tokenizer([text], padding=\"max_length\", truncation=True, max_length=512, return_tensors=\"pt\")\n",
        "   input_ids = inputs.input_ids.to(device)\n",
        "   attention_mask = inputs.attention_mask.to(device)\n",
        "   output = model1.generate(input_ids, attention_mask=attention_mask)\n",
        "   return tokenizer.decode(output[0], skip_special_tokens=True)"
      ],
      "metadata": {
        "id": "YN6Fi3o0bYby"
      },
      "execution_count": null,
      "outputs": []
    },
    {
      "cell_type": "markdown",
      "source": [
        "# Goggle search"
      ],
      "metadata": {
        "id": "JTECNzuMrFgY"
      }
    },
    {
      "cell_type": "code",
      "source": [
        "def ggl_search(text):\n",
        "  params = {\n",
        "    \"q\": text,\n",
        "    \"tbm\": \"nws\",\n",
        "    \"location\": \"Dallas\",\n",
        "    \"api_key\": \"\" #add api key here from https://serpapi.com/ \n",
        "  }\n",
        "\n",
        "  search = GoogleSearch(params)\n",
        "  results = search.get_dict()\n",
        "\n",
        "  return results[\"news_results\"]"
      ],
      "metadata": {
        "id": "mJaNd6xRYF3f"
      },
      "execution_count": null,
      "outputs": []
    },
    {
      "cell_type": "markdown",
      "source": [
        "# Similarity"
      ],
      "metadata": {
        "id": "c9AYfdOG0PB5"
      }
    },
    {
      "cell_type": "code",
      "source": [
        "model = SentenceTransformer('hackathon-pln-es/paraphrase-spanish-distilroberta')"
      ],
      "metadata": {
        "id": "Pu8bPpZLfiIV"
      },
      "execution_count": null,
      "outputs": []
    },
    {
      "cell_type": "code",
      "source": [
        "def calc_similarity(sentence1, sentence2):\n",
        "\n",
        "\n",
        "  # encode sentences to get their embeddings\n",
        "  embedding1 = model.encode(sentence1, convert_to_tensor=True)\n",
        "  embedding2 = model.encode(sentence2, convert_to_tensor=True)\n",
        "\n",
        "  # compute similarity scores of two embeddings\n",
        "  cosine_scores = util.pytorch_cos_sim(embedding1, embedding2)\n",
        "\n",
        "  return cosine_scores"
      ],
      "metadata": {
        "id": "ufMrax0Me2iQ"
      },
      "execution_count": null,
      "outputs": []
    },
    {
      "cell_type": "markdown",
      "source": [
        "# Test on Mexico_train dataset\n",
        "\n"
      ],
      "metadata": {
        "id": "nrPDgt5JS6Fn"
      }
    },
    {
      "cell_type": "code",
      "source": [
        "df = pd.read_excel('/content/mexico_train.xlsx')\n",
        "df"
      ],
      "metadata": {
        "colab": {
          "base_uri": "https://localhost:8080/",
          "height": 693
        },
        "id": "efxVFo2RTB5-",
        "outputId": "29d643e1-f469-4668-aa42-aceb1ced6f2f"
      },
      "execution_count": null,
      "outputs": [
        {
          "output_type": "execute_result",
          "data": {
            "text/plain": [
              "      Id Category          Topic          Source  \\\n",
              "0      1     Fake      Education  El Ruinaversal   \n",
              "1      2     Fake      Education     Hay noticia   \n",
              "2      3     Fake      Education  El Ruinaversal   \n",
              "3      4     True      Education    EL UNIVERSAL   \n",
              "4      5     Fake      Education          Lamula   \n",
              "..   ...      ...            ...             ...   \n",
              "671  672     Fake  Entertainment       El Dizque   \n",
              "672  673     True  Entertainment   Radio Formula   \n",
              "673  674     Fake  Entertainment  La Voz Popular   \n",
              "674  675     Fake  Entertainment       El Dizque   \n",
              "675  676     Fake  Entertainment  La voz popular   \n",
              "\n",
              "                                              Headline  \\\n",
              "0    RAE INCLUIRÁ LA PALABRA \"LADY\" EN EL DICCIONAR...   \n",
              "1              La palabra \"haiga\", aceptada por la RAE   \n",
              "2    YORDI ROSADO ESCRIBIRÁ Y DISEÑARÁ LOS NUEVOS L...   \n",
              "3    UNAM capacitará a maestros para aprobar prueba...   \n",
              "4    pretenden aprobar libros escolares con conteni...   \n",
              "..                                                 ...   \n",
              "671  Madonna será la nueva imagen del Chocolate Abu...   \n",
              "672  Filtran material íntimo de Zelina Vega, luchad...   \n",
              "673  CBS PLANEA GRAN HERMANO EN LA CASA BLANCA CON ...   \n",
              "674  TV Azteca anuncia que cambiará su nombre por u...   \n",
              "675          MUERTE DE PETER EL ANGUILA POR SOBREDOSIS   \n",
              "\n",
              "                                                  Text  \\\n",
              "0    RAE INCLUIRÁ LA PALABRA \"LADY\" EN EL DICCIONAR...   \n",
              "1    La palabra \"haiga\", aceptada por la RAE La Rea...   \n",
              "2    YORDI ROSADO ESCRIBIRÁ Y DISEÑARÁ LOS NUEVOS L...   \n",
              "3    UNAM capacitará a maestros para aprobar prueba...   \n",
              "4    Alerta: pretenden aprobar libros escolares con...   \n",
              "..                                                 ...   \n",
              "671  Madonna será la nueva imagen del Chocolate Abu...   \n",
              "672  Filtran material íntimo de Zelina Vega, luchad...   \n",
              "673  CBS PLANEA GRAN HERMANO EN LA CASA BLANCA CON ...   \n",
              "674  TV Azteca anuncia que cambiará su nombre por u...   \n",
              "675  MUERTE DE PETER EL ANGUILA POR SOBREDOSIS\\nPet...   \n",
              "\n",
              "                                                  Link  \n",
              "0    http://www.elruinaversal.com/2017/06/10/rae-in...  \n",
              "1    https://haynoticia.es/la-palabra-haiga-aceptad...  \n",
              "2    http://www.elruinaversal.com/2018/05/06/yordi-...  \n",
              "3    http://www.eluniversal.com.mx/articulo/nacion/...  \n",
              "4    https://redaccion.lamula.pe/2018/06/19/memoria...  \n",
              "..                                                 ...  \n",
              "671  https://www.eldizque.com/madonna-sera-la-nueva...  \n",
              "672  http://www.radioformula.com.mx/notas.asp?Idn=7...  \n",
              "673  http://lavozpopular.com/cbs-planea-gran-herman...  \n",
              "674  https://www.eldizque.com/tv-azteca-anuncia-que...  \n",
              "675  http://lavozpopular.com/muerte-peter-el-anguil...  \n",
              "\n",
              "[676 rows x 7 columns]"
            ],
            "text/html": [
              "\n",
              "  <div id=\"df-932ce8e3-7b5a-43ca-a190-9d6866b83867\">\n",
              "    <div class=\"colab-df-container\">\n",
              "      <div>\n",
              "<style scoped>\n",
              "    .dataframe tbody tr th:only-of-type {\n",
              "        vertical-align: middle;\n",
              "    }\n",
              "\n",
              "    .dataframe tbody tr th {\n",
              "        vertical-align: top;\n",
              "    }\n",
              "\n",
              "    .dataframe thead th {\n",
              "        text-align: right;\n",
              "    }\n",
              "</style>\n",
              "<table border=\"1\" class=\"dataframe\">\n",
              "  <thead>\n",
              "    <tr style=\"text-align: right;\">\n",
              "      <th></th>\n",
              "      <th>Id</th>\n",
              "      <th>Category</th>\n",
              "      <th>Topic</th>\n",
              "      <th>Source</th>\n",
              "      <th>Headline</th>\n",
              "      <th>Text</th>\n",
              "      <th>Link</th>\n",
              "    </tr>\n",
              "  </thead>\n",
              "  <tbody>\n",
              "    <tr>\n",
              "      <th>0</th>\n",
              "      <td>1</td>\n",
              "      <td>Fake</td>\n",
              "      <td>Education</td>\n",
              "      <td>El Ruinaversal</td>\n",
              "      <td>RAE INCLUIRÁ LA PALABRA \"LADY\" EN EL DICCIONAR...</td>\n",
              "      <td>RAE INCLUIRÁ LA PALABRA \"LADY\" EN EL DICCIONAR...</td>\n",
              "      <td>http://www.elruinaversal.com/2017/06/10/rae-in...</td>\n",
              "    </tr>\n",
              "    <tr>\n",
              "      <th>1</th>\n",
              "      <td>2</td>\n",
              "      <td>Fake</td>\n",
              "      <td>Education</td>\n",
              "      <td>Hay noticia</td>\n",
              "      <td>La palabra \"haiga\", aceptada por la RAE</td>\n",
              "      <td>La palabra \"haiga\", aceptada por la RAE La Rea...</td>\n",
              "      <td>https://haynoticia.es/la-palabra-haiga-aceptad...</td>\n",
              "    </tr>\n",
              "    <tr>\n",
              "      <th>2</th>\n",
              "      <td>3</td>\n",
              "      <td>Fake</td>\n",
              "      <td>Education</td>\n",
              "      <td>El Ruinaversal</td>\n",
              "      <td>YORDI ROSADO ESCRIBIRÁ Y DISEÑARÁ LOS NUEVOS L...</td>\n",
              "      <td>YORDI ROSADO ESCRIBIRÁ Y DISEÑARÁ LOS NUEVOS L...</td>\n",
              "      <td>http://www.elruinaversal.com/2018/05/06/yordi-...</td>\n",
              "    </tr>\n",
              "    <tr>\n",
              "      <th>3</th>\n",
              "      <td>4</td>\n",
              "      <td>True</td>\n",
              "      <td>Education</td>\n",
              "      <td>EL UNIVERSAL</td>\n",
              "      <td>UNAM capacitará a maestros para aprobar prueba...</td>\n",
              "      <td>UNAM capacitará a maestros para aprobar prueba...</td>\n",
              "      <td>http://www.eluniversal.com.mx/articulo/nacion/...</td>\n",
              "    </tr>\n",
              "    <tr>\n",
              "      <th>4</th>\n",
              "      <td>5</td>\n",
              "      <td>Fake</td>\n",
              "      <td>Education</td>\n",
              "      <td>Lamula</td>\n",
              "      <td>pretenden aprobar libros escolares con conteni...</td>\n",
              "      <td>Alerta: pretenden aprobar libros escolares con...</td>\n",
              "      <td>https://redaccion.lamula.pe/2018/06/19/memoria...</td>\n",
              "    </tr>\n",
              "    <tr>\n",
              "      <th>...</th>\n",
              "      <td>...</td>\n",
              "      <td>...</td>\n",
              "      <td>...</td>\n",
              "      <td>...</td>\n",
              "      <td>...</td>\n",
              "      <td>...</td>\n",
              "      <td>...</td>\n",
              "    </tr>\n",
              "    <tr>\n",
              "      <th>671</th>\n",
              "      <td>672</td>\n",
              "      <td>Fake</td>\n",
              "      <td>Entertainment</td>\n",
              "      <td>El Dizque</td>\n",
              "      <td>Madonna será la nueva imagen del Chocolate Abu...</td>\n",
              "      <td>Madonna será la nueva imagen del Chocolate Abu...</td>\n",
              "      <td>https://www.eldizque.com/madonna-sera-la-nueva...</td>\n",
              "    </tr>\n",
              "    <tr>\n",
              "      <th>672</th>\n",
              "      <td>673</td>\n",
              "      <td>True</td>\n",
              "      <td>Entertainment</td>\n",
              "      <td>Radio Formula</td>\n",
              "      <td>Filtran material íntimo de Zelina Vega, luchad...</td>\n",
              "      <td>Filtran material íntimo de Zelina Vega, luchad...</td>\n",
              "      <td>http://www.radioformula.com.mx/notas.asp?Idn=7...</td>\n",
              "    </tr>\n",
              "    <tr>\n",
              "      <th>673</th>\n",
              "      <td>674</td>\n",
              "      <td>Fake</td>\n",
              "      <td>Entertainment</td>\n",
              "      <td>La Voz Popular</td>\n",
              "      <td>CBS PLANEA GRAN HERMANO EN LA CASA BLANCA CON ...</td>\n",
              "      <td>CBS PLANEA GRAN HERMANO EN LA CASA BLANCA CON ...</td>\n",
              "      <td>http://lavozpopular.com/cbs-planea-gran-herman...</td>\n",
              "    </tr>\n",
              "    <tr>\n",
              "      <th>674</th>\n",
              "      <td>675</td>\n",
              "      <td>Fake</td>\n",
              "      <td>Entertainment</td>\n",
              "      <td>El Dizque</td>\n",
              "      <td>TV Azteca anuncia que cambiará su nombre por u...</td>\n",
              "      <td>TV Azteca anuncia que cambiará su nombre por u...</td>\n",
              "      <td>https://www.eldizque.com/tv-azteca-anuncia-que...</td>\n",
              "    </tr>\n",
              "    <tr>\n",
              "      <th>675</th>\n",
              "      <td>676</td>\n",
              "      <td>Fake</td>\n",
              "      <td>Entertainment</td>\n",
              "      <td>La voz popular</td>\n",
              "      <td>MUERTE DE PETER EL ANGUILA POR SOBREDOSIS</td>\n",
              "      <td>MUERTE DE PETER EL ANGUILA POR SOBREDOSIS\\nPet...</td>\n",
              "      <td>http://lavozpopular.com/muerte-peter-el-anguil...</td>\n",
              "    </tr>\n",
              "  </tbody>\n",
              "</table>\n",
              "<p>676 rows × 7 columns</p>\n",
              "</div>\n",
              "      <button class=\"colab-df-convert\" onclick=\"convertToInteractive('df-932ce8e3-7b5a-43ca-a190-9d6866b83867')\"\n",
              "              title=\"Convert this dataframe to an interactive table.\"\n",
              "              style=\"display:none;\">\n",
              "        \n",
              "  <svg xmlns=\"http://www.w3.org/2000/svg\" height=\"24px\"viewBox=\"0 0 24 24\"\n",
              "       width=\"24px\">\n",
              "    <path d=\"M0 0h24v24H0V0z\" fill=\"none\"/>\n",
              "    <path d=\"M18.56 5.44l.94 2.06.94-2.06 2.06-.94-2.06-.94-.94-2.06-.94 2.06-2.06.94zm-11 1L8.5 8.5l.94-2.06 2.06-.94-2.06-.94L8.5 2.5l-.94 2.06-2.06.94zm10 10l.94 2.06.94-2.06 2.06-.94-2.06-.94-.94-2.06-.94 2.06-2.06.94z\"/><path d=\"M17.41 7.96l-1.37-1.37c-.4-.4-.92-.59-1.43-.59-.52 0-1.04.2-1.43.59L10.3 9.45l-7.72 7.72c-.78.78-.78 2.05 0 2.83L4 21.41c.39.39.9.59 1.41.59.51 0 1.02-.2 1.41-.59l7.78-7.78 2.81-2.81c.8-.78.8-2.07 0-2.86zM5.41 20L4 18.59l7.72-7.72 1.47 1.35L5.41 20z\"/>\n",
              "  </svg>\n",
              "      </button>\n",
              "      \n",
              "  <style>\n",
              "    .colab-df-container {\n",
              "      display:flex;\n",
              "      flex-wrap:wrap;\n",
              "      gap: 12px;\n",
              "    }\n",
              "\n",
              "    .colab-df-convert {\n",
              "      background-color: #E8F0FE;\n",
              "      border: none;\n",
              "      border-radius: 50%;\n",
              "      cursor: pointer;\n",
              "      display: none;\n",
              "      fill: #1967D2;\n",
              "      height: 32px;\n",
              "      padding: 0 0 0 0;\n",
              "      width: 32px;\n",
              "    }\n",
              "\n",
              "    .colab-df-convert:hover {\n",
              "      background-color: #E2EBFA;\n",
              "      box-shadow: 0px 1px 2px rgba(60, 64, 67, 0.3), 0px 1px 3px 1px rgba(60, 64, 67, 0.15);\n",
              "      fill: #174EA6;\n",
              "    }\n",
              "\n",
              "    [theme=dark] .colab-df-convert {\n",
              "      background-color: #3B4455;\n",
              "      fill: #D2E3FC;\n",
              "    }\n",
              "\n",
              "    [theme=dark] .colab-df-convert:hover {\n",
              "      background-color: #434B5C;\n",
              "      box-shadow: 0px 1px 3px 1px rgba(0, 0, 0, 0.15);\n",
              "      filter: drop-shadow(0px 1px 2px rgba(0, 0, 0, 0.3));\n",
              "      fill: #FFFFFF;\n",
              "    }\n",
              "  </style>\n",
              "\n",
              "      <script>\n",
              "        const buttonEl =\n",
              "          document.querySelector('#df-932ce8e3-7b5a-43ca-a190-9d6866b83867 button.colab-df-convert');\n",
              "        buttonEl.style.display =\n",
              "          google.colab.kernel.accessAllowed ? 'block' : 'none';\n",
              "\n",
              "        async function convertToInteractive(key) {\n",
              "          const element = document.querySelector('#df-932ce8e3-7b5a-43ca-a190-9d6866b83867');\n",
              "          const dataTable =\n",
              "            await google.colab.kernel.invokeFunction('convertToInteractive',\n",
              "                                                     [key], {});\n",
              "          if (!dataTable) return;\n",
              "\n",
              "          const docLinkHtml = 'Like what you see? Visit the ' +\n",
              "            '<a target=\"_blank\" href=https://colab.research.google.com/notebooks/data_table.ipynb>data table notebook</a>'\n",
              "            + ' to learn more about interactive tables.';\n",
              "          element.innerHTML = '';\n",
              "          dataTable['output_type'] = 'display_data';\n",
              "          await google.colab.output.renderOutput(dataTable, element);\n",
              "          const docLink = document.createElement('div');\n",
              "          docLink.innerHTML = docLinkHtml;\n",
              "          element.appendChild(docLink);\n",
              "        }\n",
              "      </script>\n",
              "    </div>\n",
              "  </div>\n",
              "  "
            ]
          },
          "metadata": {},
          "execution_count": 9
        }
      ]
    },
    {
      "cell_type": "code",
      "source": [
        "fake_links = []\n",
        "true_links = []\n",
        "true_articles = []\n",
        "fake_articles = []\n",
        "\n",
        "for i in range(100):\n",
        "  if  df.iloc[i]['Category'] == 'True':\n",
        "    try:\n",
        "      article = get_article(df.iloc[i]['Link'])\n",
        "      if len(article) != 0:\n",
        "        true_links.append(df.iloc[i]['Link'])\n",
        "        true_articles.append(article)\n",
        "    except:\n",
        "      pass\n",
        "    \n",
        "  elif  df.iloc[i]['Category'] == 'Fake':\n",
        "    try:\n",
        "      article = get_article(df.iloc[i]['Link'])\n",
        "      if len(article) != 0:\n",
        "        fake_links.append(df.iloc[i]['Link'])\n",
        "        fake_articles.append(article)\n",
        "    except:\n",
        "      pass"
      ],
      "metadata": {
        "id": "AMwaKjv4Tqjl"
      },
      "execution_count": null,
      "outputs": []
    },
    {
      "cell_type": "code",
      "source": [
        "true_articles = true_articles[0:20]\n",
        "fake_articles = fake_articles[0:20]"
      ],
      "metadata": {
        "id": "p2i6xcLXUUTL"
      },
      "execution_count": null,
      "outputs": []
    },
    {
      "cell_type": "code",
      "source": [
        "# Summarize true articles\n",
        "\n",
        "true_summ = []\n",
        "for article in true_articles:\n",
        "  true_summ.append(generate_summary(article))\n"
      ],
      "metadata": {
        "colab": {
          "base_uri": "https://localhost:8080/"
        },
        "id": "_CoDhuNTXgj_",
        "outputId": "2cf031c0-225b-4478-c501-286529a33d99"
      },
      "execution_count": null,
      "outputs": [
        {
          "output_type": "stream",
          "name": "stderr",
          "text": [
            "/usr/local/lib/python3.7/dist-packages/transformers/generation_utils.py:1301: UserWarning: Neither `max_length` nor `max_new_tokens` has been set, `max_length` will default to 64 (`self.config.max_length`). Controlling `max_length` via the config is deprecated and `max_length` will be removed from the config in v5 of Transformers -- we recommend using `max_new_tokens` to control the maximum length of the generation.\n",
            "  UserWarning,\n"
          ]
        }
      ]
    },
    {
      "cell_type": "code",
      "source": [
        "# Search google for the true articles\n",
        "\n",
        "true_search_links = []\n",
        "\n",
        "for i in range(20):\n",
        "  try:\n",
        "    news_results = ggl_search(true_summ[i])\n",
        "    true_search_links.append([i, [news_result['link'] for news_result in news_results if news_result['link'] != true_links[i]]])\n",
        "  except:\n",
        "    pass"
      ],
      "metadata": {
        "id": "m0Kr7x2fmm8r"
      },
      "execution_count": null,
      "outputs": []
    },
    {
      "cell_type": "code",
      "source": [
        "# calculate similarity  score\n",
        "\n",
        "sim_score = {}\n",
        "for i in range(len(true_search_links)):\n",
        "  sim_score[true_search_links[i][0]] = []\n",
        "\n",
        "for i in range(len(true_search_links)):\n",
        "  for link in true_search_links[i][1]:\n",
        "    try:\n",
        "      article = get_article(link)\n",
        "      if len(article) != 0:\n",
        "        score = calc_similarity(true_summ[true_search_links[i][0]], generate_summary(article))\n",
        "        sim_score[true_search_links[i][0]].append(score)\n",
        "        \n",
        "    except:\n",
        "      pass\n",
        "      \n",
        "true_score = []\n",
        "for s in sim_score:\n",
        "  try:\n",
        "  \n",
        "    true_score.append(sum(sim_score[s]).cpu().numpy())\n",
        "  except:\n",
        "     true_score.append(sum(sim_score[s]))\n",
        "true_score"
      ],
      "metadata": {
        "id": "0Amm8sMJ5djZ"
      },
      "execution_count": null,
      "outputs": []
    },
    {
      "cell_type": "code",
      "source": [
        "plt.scatter([range(len(true_score))], true_score)\n",
        "plt.show()"
      ],
      "metadata": {
        "colab": {
          "base_uri": "https://localhost:8080/",
          "height": 320
        },
        "id": "Btmg6Wqcw3l_",
        "outputId": "337221aa-344e-4801-c8d1-ecb684574e62"
      },
      "execution_count": null,
      "outputs": [
        {
          "output_type": "stream",
          "name": "stderr",
          "text": [
            "/usr/local/lib/python3.7/dist-packages/numpy/ma/core.py:2830: VisibleDeprecationWarning: Creating an ndarray from ragged nested sequences (which is a list-or-tuple of lists-or-tuples-or ndarrays with different lengths or shapes) is deprecated. If you meant to do this, you must specify 'dtype=object' when creating the ndarray.\n",
            "  order=order, subok=True, ndmin=ndmin)\n"
          ]
        },
        {
          "output_type": "display_data",
          "data": {
            "text/plain": [
              "<Figure size 432x288 with 1 Axes>"
            ],
            "image/png": "[encoded data removed]"
          },
          "metadata": {
            "needs_background": "light"
          }
        }
      ]
    },
    {
      "cell_type": "code",
      "source": [
        "# Summarize fake articles\n",
        "\n",
        "fake_summ = []\n",
        "for article in fake_articles:\n",
        "  fake_summ.append(generate_summary(article))"
      ],
      "metadata": {
        "id": "K5RIOOlAuIWR"
      },
      "execution_count": null,
      "outputs": []
    },
    {
      "cell_type": "code",
      "source": [
        "# Search google for the fake articles\n",
        "\n",
        "fake_search_links = []\n",
        "for i in range(20):\n",
        "  try:\n",
        "    news_results = ggl_search(fake_summ[i])\n",
        "    fake_search_links.append([i,[news_result['link'] for news_result in news_results if news_result['link'] != fake_links[i]]])\n",
        "  except:\n",
        "    pass"
      ],
      "metadata": {
        "id": "kBvLxuh8utVi"
      },
      "execution_count": null,
      "outputs": []
    },
    {
      "cell_type": "code",
      "source": [
        "fake_sim_score = {}\n",
        "for i in range(len(fake_search_links)):\n",
        "  fake_sim_score[fake_search_links[i][0]] = []\n"
      ],
      "metadata": {
        "id": "AiSVayVsEnzP"
      },
      "execution_count": null,
      "outputs": []
    },
    {
      "cell_type": "code",
      "source": [
        "for i in range(len(fake_search_links)):\n",
        "  for link in fake_search_links[i][1]:\n",
        "    try:\n",
        "      article = get_article(link)\n",
        "      if len(article) != 0:\n",
        "        fake_score = calc_similarity(fake_summ[fake_search_links[i][0]], generate_summary(article))\n",
        "        fake_sim_score[fake_search_links[i][0]].append(score)\n",
        "        \n",
        "    except:\n",
        "      pass"
      ],
      "metadata": {
        "id": "D4zqfOUDseBL"
      },
      "execution_count": null,
      "outputs": []
    },
    {
      "cell_type": "code",
      "source": [
        "fake_score = []\n",
        "for s in fake_sim_score:\n",
        "  try:\n",
        "  \n",
        "    fake_score.append(sum(fake_sim_score[s]).cpu().numpy())\n",
        "  except:\n",
        "     fake_score.append(sum(fake_sim_score[s]))\n",
        "fake_score"
      ],
      "metadata": {
        "id": "wrbhpcuvD6Er"
      },
      "execution_count": null,
      "outputs": []
    },
    {
      "cell_type": "code",
      "source": [
        "fig = plt.figure()\n",
        "ax1 = fig.add_subplot(111)\n",
        "\n",
        "ax1.scatter([range(len(true_score))], true_score, s=10, c='b', marker=\"s\", label='True')\n",
        "ax1.scatter([range(len(fake_score))], fake_score, marker=\"o\",c='r', label='fake')\n",
        "plt.legend(loc='upper left');\n",
        "plt.show()"
      ],
      "metadata": {
        "colab": {
          "base_uri": "https://localhost:8080/",
          "height": 265
        },
        "id": "XzB88uO3Fo7_",
        "outputId": "17500a19-1de7-4874-fe63-5603f2d8cea3"
      },
      "execution_count": null,
      "outputs": [
        {
          "output_type": "display_data",
          "data": {
            "text/plain": [
              "<Figure size 432x288 with 1 Axes>"
            ],
            "image/png": "[encoded data removed]"
          },
          "metadata": {
            "needs_background": "light"
          }
        }
      ]
    }
  ]
}